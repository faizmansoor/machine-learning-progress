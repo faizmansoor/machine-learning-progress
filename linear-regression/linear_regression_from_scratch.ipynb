{
 "cells": [
  {
   "cell_type": "code",
   "execution_count": 43,
   "id": "4d47270f-9929-46bb-af1c-4c86e4f94ce5",
   "metadata": {},
   "outputs": [],
   "source": [
    "import numpy as np\n",
    "import matplotlib.pyplot as plt\n",
    "from data.dataset import data\n",
    "\n",
    "import copy\n",
    "import math\n",
    "%matplotlib inline"
   ]
  },
  {
   "cell_type": "markdown",
   "id": "d8f884ca-9bbc-49a7-adb6-500336ace259",
   "metadata": {},
   "source": [
    "**Problem Statement**\n",
    "Suppose you are the CEO of a restaurant franchise and are considering different cities for opening a new outlet.\n",
    "\n",
    "You would like to expand your business to cities that may give your restaurant higher profits.\n",
    "The chain already has restaurants in various cities and you have data for profits and populations from the cities.\n",
    "You also have data on cities that are candidates for a new restaurant.\n",
    "For these cities, you have the city population.\n",
    "Can you use the data to help you identify which cities may potentially give your business higher profits?\n",
    "\n",
    "\n",
    "You will start by loading the dataset for this task.\n",
    "\n",
    "The load_data() function shown below loads the data into variables x_train and y_train\n",
    "x_train is the population of a city\n",
    "y_train is the profit of a restaurant in that city. A negative value for profit indicates a loss.\n",
    "Both X_train and y_train are numpy arrays."
   ]
  },
  {
   "cell_type": "code",
   "execution_count": 44,
   "id": "d0a2dfbe-4032-4e85-ba3b-d9e49432a89e",
   "metadata": {},
   "outputs": [],
   "source": [
    "def load_data():\n",
    "     # Ensure it uses the data you defined above\n",
    "    X = data[:, 0]\n",
    "    y = data[:, 1]\n",
    "    return X, y\n",
    "\n",
    "def load_data_multi():\n",
    "    # Placeholder: Use actual multi-variable data here when available\n",
    "    X = data[:, :2]\n",
    "    y = data[:, 2] if data.shape[1] > 2 else None  # Adjust as necessary\n",
    "    return X, y\n"
   ]
  },
  {
   "cell_type": "code",
   "execution_count": 45,
   "id": "96bf1b67-3a85-4f0a-9312-7f3b2baa7bd4",
   "metadata": {},
   "outputs": [],
   "source": [
    "x_train,y_train = load_data()"
   ]
  },
  {
   "cell_type": "code",
   "execution_count": 48,
   "id": "b7c63483-d789-4283-87b6-661bd6fbfba0",
   "metadata": {},
   "outputs": [
    {
     "name": "stdout",
     "output_type": "stream",
     "text": [
      "Type of x_train: <class 'numpy.ndarray'>\n",
      "First five elements of x_train are:\n",
      " [6.1101 5.5277 8.5186 7.0032 5.8598]\n"
     ]
    }
   ],
   "source": [
    "print(\"Type of x_train:\",type(x_train))\n",
    "print(\"First five elements of x_train are:\\n\", x_train[:5]) "
   ]
  },
  {
   "cell_type": "markdown",
   "id": "90b64aa8-395a-4397-80f6-f396a9ec9139",
   "metadata": {},
   "source": [
    "x_train is a numpy array that contains decimal values that are all greater than zero.\n",
    "\n",
    "These values represent the city population times 10,000\n",
    "For example, 6.1101 means that the population for that city is 61,101\n",
    "Now, let's print y_train"
   ]
  },
  {
   "cell_type": "code",
   "execution_count": 49,
   "id": "4fa15a09-8778-49ab-911b-217868196492",
   "metadata": {},
   "outputs": [
    {
     "name": "stdout",
     "output_type": "stream",
     "text": [
      "Type of y_train:  <class 'numpy.ndarray'>\n",
      "First 5 elements of y_train are\n",
      " [17.592   9.1302 13.662  11.854   6.8233]\n"
     ]
    }
   ],
   "source": [
    "print(\"Type of y_train: \",type(y_train))\n",
    "print(\"First 5 elements of y_train are\\n\", y_train[:5])"
   ]
  },
  {
   "cell_type": "markdown",
   "id": "22b00a72-a305-4ad9-9cee-4b087a3f5cc2",
   "metadata": {},
   "source": [
    "Similarly, y_train is a numpy array that has decimal values, some negative, some positive.\n",
    "\n",
    "These represent your restaurant's average monthly profits in each city, in units of $10,000.\n",
    "For example, 17.592 represents $175,920 in average monthly profits for that city.\n",
    "-2.6807 represents -$26,807 in average monthly loss for that city."
   ]
  },
  {
   "cell_type": "markdown",
   "id": "d03560fe-e682-4fd0-b0ff-46a7fda8aefa",
   "metadata": {},
   "source": [
    "Check the dimensions of your variables\n",
    "Another useful way to get familiar with your data is to view its dimensions.\n",
    "\n",
    "Please print the shape of x_train and y_train and see how many training examples you have in your dataset."
   ]
  },
  {
   "cell_type": "code",
   "execution_count": 50,
   "id": "28ce47bc-68ef-47fc-b510-0fc565e8cc7e",
   "metadata": {},
   "outputs": [
    {
     "name": "stdout",
     "output_type": "stream",
     "text": [
      "Shape of x_train is (97,)\n",
      "Shape of y_train is (97,)\n",
      "Number of training examples(m):  97\n"
     ]
    }
   ],
   "source": [
    "print(\"Shape of x_train is\" ,np.shape(x_train))\n",
    "print(\"Shape of y_train is\" ,y_train.shape)\n",
    "print(\"Number of training examples(m): \",len(x_train))"
   ]
  },
  {
   "cell_type": "markdown",
   "id": "ef72401d-4d30-489d-bf11-846ebc9a3c0e",
   "metadata": {},
   "source": [
    "Visualize your data\n",
    "It is often useful to understand the data by visualizing it.\n",
    "\n",
    "For this dataset, you can use a scatter plot to visualize the data, since it has only two properties to plot (profit and population).\n",
    "Many other problems that you will encounter in real life have more than two properties (for example, population, average household income, monthly profits, monthly sales).When you have more than two properties, you can still use a scatter plot to see the relationship between each pair of properties."
   ]
  },
  {
   "cell_type": "code",
   "execution_count": 51,
   "id": "d6a1e54a-cb4f-4464-a366-7578c2e0bc5c",
   "metadata": {},
   "outputs": [
    {
     "data": {
      "image/png": "[encoded data removed]",
      "text/plain": [
       "<Figure size 640x480 with 1 Axes>"
      ]
     },
     "metadata": {},
     "output_type": "display_data"
    }
   ],
   "source": [
    "plt.scatter(x_train, y_train, marker ='.', c = 'r')\n",
    "plt.title(\"Profits vs. Population per city\")\n",
    "plt.ylabel('Profit in $10,000')\n",
    "plt.xlabel('Population of City in 10,000s')\n",
    "plt.show()"
   ]
  },
  {
   "cell_type": "markdown",
   "id": "aadd364f-054d-4111-9278-fbada70c45cc",
   "metadata": {},
   "source": [
    "Your goal is to build a linear regression model to fit this data.\n",
    "\n",
    "With this model, you can then input a new city's population, and have the model estimate your restaurant's potential monthly profits for that city."
   ]
  },
  {
   "cell_type": "markdown",
   "id": "c812fd67-cb50-4796-b8af-38ed1bc5f0f2",
   "metadata": {},
   "source": [
    "\n",
    "<br><br>\n",
    "**Refresher on linear regression**\n",
    "<br>In this practice lab, you will fit the linear regression parameters  (𝑤,𝑏)\n",
    "  to your dataset.\n",
    "\n",
    "* The model function for linear regression, which is a function that maps from x (city population) to y (your restaurant's monthly profit for that city) is represented as\n",
    "    𝑓𝑤,𝑏(𝑥)=𝑤𝑥+𝑏\n",
    " \n",
    "* To train a linear regression model, you want to find the best  (𝑤,𝑏)\n",
    "  parameters that fit your dataset.\n",
    "\n",
    "* To compare how one choice of  (𝑤,𝑏)\n",
    "  is better or worse than another choice, you can evaluate it with a cost function  𝐽(𝑤,𝑏)\n",
    " \n",
    "\n",
    "* 𝐽 is a function of  (𝑤,𝑏) That is, the value of the cost  𝐽(𝑤,𝑏) depends on the value of  (𝑤,𝑏).\n",
    "* The choice of  (𝑤,𝑏)\n",
    "  that fits your data the best is the one that has the smallest cost  𝐽(𝑤,𝑏).\n",
    "\n",
    "* To find the values  (𝑤,𝑏) that gets the smallest possible cost  𝐽(𝑤,𝑏) , you can use a method called gradient descent.\n",
    "* With each step of gradient descent, your parameters  (𝑤,𝑏) come closer to the optimal values that will achieve the lowest cost  𝐽(𝑤,𝑏).\n",
    "* The trained linear regression model can then take the input feature  𝑥(city population) and output a prediction  𝑓𝑤,𝑏(𝑥)(predicted monthly profit for a restaurant in that city)."
   ]
  },
  {
   "cell_type": "markdown",
   "id": "f2725888-3214-40e4-89a0-eb51fb5d7004",
   "metadata": {},
   "source": [
    "**Compute Cost**<br><br>\n",
    "Gradient descent involves repeated steps to adjust the value of your parameter  (𝑤,𝑏)\n",
    "  to gradually get a smaller and smaller cost  𝐽(𝑤,𝑏) .\n",
    "\n",
    "At each step of gradient descent, it will be helpful for you to monitor your progress by computing the cost  𝐽(𝑤,𝑏)\n",
    "  as  (𝑤,𝑏)\n",
    "  gets updated.\n",
    "In this section, you will implement a function to calculate  𝐽(𝑤,𝑏)\n",
    "  so that you can check the progress of your gradient descent implementation.\n",
    "Cost function\n",
    "As you may recall from the lecture, for one variable, the cost function for linear regression  𝐽(𝑤,𝑏)\n",
    "  is defined as\n",
    "\n",
    "𝐽(𝑤,𝑏)=12𝑚∑𝑖=0𝑚−1(𝑓𝑤,𝑏(𝑥(𝑖))−𝑦(𝑖))2\n",
    " \n",
    "\n",
    "You can think of  𝑓𝑤,𝑏(𝑥(𝑖))\n",
    "  as the model's prediction of your restaurant's profit, as opposed to  𝑦(𝑖)\n",
    " , which is the actual profit that is recorded in the data.\n",
    "𝑚\n",
    "  is the number of training examples in the dataset\n",
    "Model prediction\n",
    "For linear regression with one variable, the prediction of the model  𝑓𝑤,𝑏\n",
    "  for an example  𝑥(𝑖)\n",
    "  is representented as:\n",
    "𝑓𝑤,𝑏(𝑥(𝑖))=𝑤𝑥(𝑖)+𝑏\n",
    " \n",
    "\n",
    "This is the equation for a line, with an intercept  𝑏\n",
    "  and a slope  𝑤"
   ]
  },
  {
   "cell_type": "code",
   "execution_count": 59,
   "id": "9ef5b68a-cbc7-42f1-840e-8fc12d3acc39",
   "metadata": {},
   "outputs": [],
   "source": [
    "def compute_cost(x,y,w,b):\n",
    "    \"\"\"\n",
    "    Computes the cost function for linear regression.\n",
    "    \n",
    "    Args:\n",
    "        x (ndarray): Shape (m,) Input to the model (Population of cities) \n",
    "        y (ndarray): Shape (m,) Label (Actual profits for the cities)\n",
    "        w, b (scalar): Parameters of the model\n",
    "    \n",
    "    Returns\n",
    "        total_cost (float): The cost of using w,b as the parameters for linear regression\n",
    "               to fit the data points in x and y\n",
    "               \n",
    "    \"\"\"\n",
    "    # number of training examples\n",
    "    m= x.shape[0]\n",
    "    total_cost = 0\n",
    "    fwb = w*x + b\n",
    "    total_cost = np.sum((fwb - y)**2)/(2*m)\n",
    "\n",
    "    return total_cost"
   ]
  },
  {
   "cell_type": "markdown",
   "id": "8bd825da-1ab3-4312-88c7-a284937b5641",
   "metadata": {},
   "source": [
    "You can check if your implementation was correct by running the following test code:"
   ]
  },
  {
   "cell_type": "code",
   "execution_count": 60,
   "id": "4dea7456-4fe6-4088-86ec-ebd444bc45da",
   "metadata": {},
   "outputs": [
    {
     "name": "stdout",
     "output_type": "stream",
     "text": [
      "<class 'numpy.float64'>\n",
      "Cost at initial w: 75.203\n"
     ]
    }
   ],
   "source": [
    "initial_w = 2\n",
    "initial_b = 1\n",
    "\n",
    "cost = compute_cost(x_train, y_train, initial_w, initial_b)\n",
    "\n",
    "print(type(cost))\n",
    "print(f'Cost at initial w: {cost:.3f}')\n",
    "\n"
   ]
  },
  {
   "cell_type": "markdown",
   "id": "3b4d9b96-96ff-4daf-8419-c363e8abaa9b",
   "metadata": {},
   "source": [
    "**Gradient descent**<br>\n",
    "In this section, you will implement the gradient for parameters  𝑤,𝑏 for linear regression."
   ]
  },
  {
   "cell_type": "markdown",
   "id": "9083122b-028d-4b45-840f-31f389fc1a0b",
   "metadata": {},
   "source": [
    "the gradient descent algorithm is:\n",
    "\n",
    "repeat until convergence:\n",
    "    {\n",
    "    𝑏:=𝑏− 𝛼∂𝐽(𝑤,𝑏)∂𝑏\n",
    "    𝑤:=𝑤−𝛼∂𝐽(𝑤,𝑏)∂𝑤\n",
    "    }\n",
    "\n",
    "where, parameters  𝑤,𝑏 are both updated simultaniously and where\n",
    "    ∂𝐽(𝑤,𝑏)∂𝑏= 1𝑚∑𝑖=0𝑚−1(𝑓𝑤,𝑏(𝑥(𝑖))−𝑦(𝑖))\n",
    "    \n",
    "    ∂𝐽(𝑤,𝑏)∂𝑤=1𝑚∑𝑖=0𝑚−1(𝑓𝑤,𝑏(𝑥(𝑖))−𝑦(𝑖))𝑥(𝑖)\n",
    "\n",
    "m is the number of training examples in the dataset\n",
    "𝑓𝑤,𝑏(𝑥(𝑖)) is the model's prediction, while \n",
    "𝑦(𝑖) is the target value\n",
    "You will implement a function called compute_gradient which calculates  ∂𝐽(𝑤)∂𝑤, ∂𝐽(𝑤)∂𝑏\n",
    " \n",
    "\n",
    "\n",
    "\n",
    "Please complete the compute_gradient function to:\n",
    "\n",
    "Iterate over the training examples, and for each example, compute:\n",
    "\n",
    "The prediction of the model for that example\n",
    "𝑓𝑤𝑏(𝑥(𝑖))=𝑤𝑥(𝑖)+𝑏\n",
    "\n",
    "The gradient for the parameters 𝑤,𝑏\n",
    " from that example\n",
    "∂𝐽(𝑤,𝑏)∂𝑏(𝑖)=(𝑓𝑤,𝑏(𝑥(𝑖))−𝑦(𝑖))\n",
    "∂𝐽(𝑤,𝑏)∂𝑤(𝑖)=(𝑓𝑤,𝑏(𝑥(𝑖))−𝑦(𝑖))𝑥(𝑖)\n",
    "\n",
    "Return the total gradient update from all the examples\n",
    "∂𝐽(𝑤,𝑏)∂𝑏=1𝑚∑𝑖=0𝑚−1∂𝐽(𝑤,𝑏)∂𝑏(𝑖)\n",
    "\n",
    "∂𝐽(𝑤,𝑏)∂𝑤=1𝑚∑𝑖=0𝑚−1∂𝐽(𝑤,𝑏)∂𝑤(𝑖)\n",
    "\n",
    "Here, 𝑚\n",
    " is the number of training examples and ∑\n",
    " is the summation operator"
   ]
  },
  {
   "cell_type": "code",
   "execution_count": 85,
   "id": "e054837e-ec3c-4f48-b50f-2c49391e4d1c",
   "metadata": {},
   "outputs": [],
   "source": [
    "def compute_gradient(x, y, w, b): \n",
    "    \"\"\"\n",
    "    Computes the gradient for linear regression \n",
    "    Args:\n",
    "      x (ndarray): Shape (m,) Input to the model (Population of cities) \n",
    "      y (ndarray): Shape (m,) Label (Actual profits for the cities)\n",
    "      w, b (scalar): Parameters of the model  \n",
    "    Returns\n",
    "      dj_dw (scalar): The gradient of the cost w.r.t. the parameters w\n",
    "      dj_db (scalar): The gradient of the cost w.r.t. the parameter b     \n",
    "     \"\"\"\n",
    "    \n",
    "    # Number of training examples\n",
    "    m = x.shape[0]\n",
    "    \n",
    "   \n",
    "        \n",
    "    \n",
    "    # You need to return the following variables correctly\n",
    "    dj_dw = 0\n",
    "    dj_db = 0\n",
    "    \n",
    "    ### START CODE HERE ###\n",
    "    predictions = w * x + b\n",
    "    \n",
    "    # Errors (predictions - actual values)\n",
    "    errors = predictions - y\n",
    "    \n",
    "   \n",
    "        \n",
    "    dj_dw = np.sum(errors * x) / m\n",
    "    dj_db = np.sum(errors) / m\n",
    "    ### END CODE HERE ### \n",
    "    \n",
    "        \n",
    "    return dj_dw, dj_db"
   ]
  },
  {
   "cell_type": "code",
   "execution_count": 86,
   "id": "13ec49a9-b5de-4257-9623-d54295785112",
   "metadata": {},
   "outputs": [
    {
     "name": "stdout",
     "output_type": "stream",
     "text": [
      "Gradient at initial w, b (zeros): -65.32884974555671 -5.839135051546393\n"
     ]
    }
   ],
   "source": [
    "initial_w = 0\n",
    "initial_b = 0\n",
    "\n",
    "tmp_dj_dw, tmp_dj_db = compute_gradient(x_train, y_train, initial_w, initial_b)\n",
    "print('Gradient at initial w, b (zeros):', tmp_dj_dw, tmp_dj_db)"
   ]
  },
  {
   "cell_type": "code",
   "execution_count": 90,
   "id": "85fad1dd-2fb2-48d3-8e80-c2095a8189a7",
   "metadata": {},
   "outputs": [
    {
     "name": "stdout",
     "output_type": "stream",
     "text": [
      "Gradient at test w, b: -47.41610118114433 -4.007175051546392\n"
     ]
    }
   ],
   "source": [
    "test_w = 0.2\n",
    "test_b = 0.2\n",
    "tmp_dj_dw, tmp_dj_db = compute_gradient(x_train, y_train, test_w, test_b)\n",
    "\n",
    "print('Gradient at test w, b:', tmp_dj_dw, tmp_dj_db)"
   ]
  },
  {
   "cell_type": "code",
   "execution_count": 93,
   "id": "70f3ffa5-1177-452c-9e2a-64ce64293fbb",
   "metadata": {},
   "outputs": [],
   "source": [
    "def gradient_descent(x, y, w_in, b_in, cost_function, gradient_function, alpha, num_iters): \n",
    "    \"\"\"\n",
    "    Performs batch gradient descent to learn theta. Updates theta by taking \n",
    "    num_iters gradient steps with learning rate alpha.\n",
    "    \n",
    "    Args:\n",
    "      x :    (ndarray): Shape (m,)\n",
    "      y :    (ndarray): Shape (m,)\n",
    "      w_in, b_in : (scalar) Initial values of parameters of the model\n",
    "      cost_function: function to compute cost\n",
    "      gradient_function: function to compute the gradient\n",
    "      alpha : (float) Learning rate\n",
    "      num_iters : (int) number of iterations to run gradient descent\n",
    "    Returns\n",
    "      w : (ndarray): Shape (1,) Updated values of parameters of the model after\n",
    "          running gradient descent\n",
    "      b : (scalar)                Updated value of parameter of the model after\n",
    "          running gradient descent\n",
    "    \"\"\"\n",
    "    \n",
    "    # number of training examples\n",
    "    m = len(x)\n",
    "    \n",
    "    # An array to store cost J and w's at each iteration — primarily for graphing later\n",
    "    J_history = []\n",
    "    w_history = []\n",
    "    w = copy.deepcopy(w_in)  # avoid modifying global w within function\n",
    "    b = b_in\n",
    "    \n",
    "    for i in range(num_iters):\n",
    "        # Calculate the gradient and update the parameters\n",
    "        dj_dw, dj_db = gradient_function(x, y, w, b)\n",
    "\n",
    "        # Update Parameters using w, b, alpha, and gradient\n",
    "        w = w - alpha * dj_dw               \n",
    "        b = b - alpha * dj_db               \n",
    "\n",
    "        # Save cost J at each iteration\n",
    "        if i < 100000:  # prevent resource exhaustion \n",
    "            cost = cost_function(x, y, w, b)\n",
    "            J_history.append(cost)\n",
    "\n",
    "        # Print cost every at intervals 10 times or as many iterations if < 10\n",
    "        if i % math.ceil(num_iters / 10) == 0:\n",
    "            w_history.append(w)\n",
    "            print(f\"Iteration {i:4}: Cost {float(J_history[-1]):8.2f}\")\n",
    "    \n",
    "    return w, b, J_history, w_history  # return w and J,w history for graphing\n"
   ]
  },
  {
   "cell_type": "markdown",
   "id": "b6521c1f-733d-4380-8d97-34bafc50fb42",
   "metadata": {},
   "source": [
    "Now let's run the gradient descent algorithm above to learn the parameters for our dataset."
   ]
  },
  {
   "cell_type": "code",
   "execution_count": 94,
   "id": "d3bd037b-eda4-4538-aa3c-21ce8edc3976",
   "metadata": {},
   "outputs": [
    {
     "name": "stdout",
     "output_type": "stream",
     "text": [
      "Iteration    0: Cost     6.74\n",
      "Iteration  150: Cost     5.31\n",
      "Iteration  300: Cost     4.96\n",
      "Iteration  450: Cost     4.76\n",
      "Iteration  600: Cost     4.64\n",
      "Iteration  750: Cost     4.57\n",
      "Iteration  900: Cost     4.53\n",
      "Iteration 1050: Cost     4.51\n",
      "Iteration 1200: Cost     4.50\n",
      "Iteration 1350: Cost     4.49\n",
      "w,b found by gradient descent: 1.166362350335582 -3.6302914394043597\n"
     ]
    }
   ],
   "source": [
    "# initialize fitting parameters. Recall that the shape of w is (n,)\n",
    "initial_w = 0.\n",
    "initial_b = 0.\n",
    "\n",
    "# some gradient descent settings\n",
    "iterations = 1500\n",
    "alpha = 0.01\n",
    "\n",
    "w,b,_,_ = gradient_descent(x_train ,y_train, initial_w, initial_b, \n",
    "                     compute_cost, compute_gradient, alpha, iterations)\n",
    "print(\"w,b found by gradient descent:\", w, b)"
   ]
  },
  {
   "cell_type": "markdown",
   "id": "be5cd152-20a9-4207-a3f5-b33474db8ff3",
   "metadata": {},
   "source": [
    "We will now use the final parameters from gradient descent to plot the linear fit.\n",
    "\n",
    "Recall that we can get the prediction for a single example  𝑓(𝑥(𝑖))=𝑤𝑥(𝑖)+𝑏\n",
    " .\n",
    "\n",
    "To calculate the predictions on the entire dataset, we can loop through all the training examples and calculate the prediction for each example. This is shown in the code block below."
   ]
  },
  {
   "cell_type": "code",
   "execution_count": 95,
   "id": "b1e2be43-9137-424d-9f82-93ffa6f0538b",
   "metadata": {},
   "outputs": [],
   "source": [
    "m = x_train.shape[0]\n",
    "predicted = np.zeros(m)\n",
    "\n",
    "for i in range(m):\n",
    "    predicted[i] = w * x_train[i] + b"
   ]
  },
  {
   "cell_type": "code",
   "execution_count": 96,
   "id": "c9af991f-d45e-4e28-b09c-2be301995f4a",
   "metadata": {},
   "outputs": [
    {
     "data": {
      "text/plain": [
       "Text(0.5, 0, 'Population of City in 10,000s')"
      ]
     },
     "execution_count": 96,
     "metadata": {},
     "output_type": "execute_result"
    },
    {
     "data": {
      "image/png": "[encoded data removed]",
      "text/plain": [
       "<Figure size 640x480 with 1 Axes>"
      ]
     },
     "metadata": {},
     "output_type": "display_data"
    }
   ],
   "source": [
    "# Plot the linear fit\n",
    "plt.plot(x_train, predicted, c = \"b\")\n",
    "\n",
    "# Create a scatter plot of the data. \n",
    "plt.scatter(x_train, y_train, marker='x', c='r') \n",
    "\n",
    "# Set the title\n",
    "plt.title(\"Profits vs. Population per city\")\n",
    "# Set the y-axis label\n",
    "plt.ylabel('Profit in $10,000')\n",
    "# Set the x-axis label\n",
    "plt.xlabel('Population of City in 10,000s')"
   ]
  },
  {
   "cell_type": "markdown",
   "id": "b5842591-9d17-4c8b-95b7-ad23e4fd690f",
   "metadata": {},
   "source": [
    "Your final values of  𝑤,𝑏\n",
    "  can also be used to make predictions on profits. Let's predict what the profit would be in areas of 35,000 and 70,000 people.\n",
    "\n",
    "The model takes in population of a city in 10,000s as input.\n",
    "\n",
    "Therefore, 35,000 people can be translated into an input to the model as np.array([3.5])\n",
    "\n",
    "Similarly, 70,000 people can be translated into an input to the model as np.array([7.])"
   ]
  },
  {
   "cell_type": "code",
   "execution_count": 99,
   "id": "eccd7282-43ce-4cd3-a2b3-6303c9b8e222",
   "metadata": {},
   "outputs": [
    {
     "name": "stdout",
     "output_type": "stream",
     "text": [
      "For population = 35,000, we predict a profit of $4519.77\n",
      "For population = 70,000, we predict a profit of $45342.45\n"
     ]
    }
   ],
   "source": [
    "predict1 = w* 3.5 + b\n",
    "print('For population = 35,000, we predict a profit of $%.2f' % (predict1*10000))\n",
    "\n",
    "predict2 = w* 7 + b\n",
    "print('For population = 70,000, we predict a profit of $%.2f' % (predict2*10000))"
   ]
  }
 ],
 "metadata": {
  "kernelspec": {
   "display_name": "Python 3 (ipykernel)",
   "language": "python",
   "name": "python3"
  },
  "language_info": {
   "codemirror_mode": {
    "name": "ipython",
    "version": 3
   },
   "file_extension": ".py",
   "mimetype": "text/x-python",
   "name": "python",
   "nbconvert_exporter": "python",
   "pygments_lexer": "ipython3",
   "version": "3.13.1"
  }
 },
 "nbformat": 4,
 "nbformat_minor": 5
}
